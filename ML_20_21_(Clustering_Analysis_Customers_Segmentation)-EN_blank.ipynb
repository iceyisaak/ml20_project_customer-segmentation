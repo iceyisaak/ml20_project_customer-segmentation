{
 "cells": [
  {
   "cell_type": "markdown",
   "metadata": {},
   "source": [
    "___\n",
    "\n",
    "<p style=\"text-align: center;\"><img src=\"https://docs.google.com/uc?id=1lY0Uj5R04yMY3-ZppPWxqCr5pvBLYPnV\" class=\"img-fluid\" alt=\"CLRSWY\"></p>\n",
    "\n",
    "___"
   ]
  },
  {
   "cell_type": "markdown",
   "metadata": {},
   "source": [
    "# WELCOME!"
   ]
  },
  {
   "cell_type": "markdown",
   "metadata": {},
   "source": [
    "Welcome to \"***Clustering (Customer Segmentation) Project***\". This is the last medium project of ***Machine Learning*** course.\n",
    "\n",
    "At the end of this project, you will have performed ***Cluster Analysis*** with an ***Unsupervised Learning*** method.\n",
    "\n",
    "---\n",
    "\n",
    "In this project, customers are required to be segmented according to the purchasing history obtained from customer of a food delivery company.\n",
    "\n",
    "This project is less challenging than other projects. After getting to know the data set quickly, you are expected to perform ***Exploratory Data Analysis***. You should observe the distribution of customers according to different variables, also discover relationships and correlations between variables. Then you will specify the different variables to use for cluster analysis.\n",
    "\n",
    "The last step in customer segmentation is to group the customers into distinct clusters based on their characteristics and behaviors. One of the most common methods for clustering is ***K-Means Clustering***, which partitions the data into k clusters based on the distance to the cluster centroids. Other clustering methods include ***hierarchical clustering***, density-based clustering, and spectral clustering. Each cluster can be assigned a label that describes its main features and preferences.\n",
    "\n",
    "- ***NOTE:*** *This project assumes that you already know the basics of coding in Python. You should also be familiar with the theory behind Cluster Analysis and scikit-learn module as well as Machine Learning before you begin.*\n",
    "\n",
    "***Features:***\n",
    "- AcceptedCmp1 - 1 if customer accepted the offer in the 1st campaign, 0 otherwise\n",
    "- AcceptedCmp2 - 1 if customer accepted the offer in the 2nd campaign, 0 otherwise\n",
    "- AcceptedCmp3 - 1 if customer accepted the offer in the 3rd campaign, 0 otherwise\n",
    "- AcceptedCmp4 - 1 if customer accepted the offer in the 4th campaign, 0 otherwise\n",
    "- AcceptedCmp5 - 1 if customer accepted the offer in the 5th campaign, 0 otherwise\n",
    "- ***Response (target) - 1 if customer accepted the offer in the last campaign, 0 otherwise*** \n",
    "- Complain - 1 if customer complained in the last 2 years\n",
    "- DtCustomer - date of customer’s enrolment with the company\n",
    "- Education - customer’s level of education\n",
    "- Marital - customer’s marital status\n",
    "- Kidhome - number of small children in customer’s household\n",
    "- Teenhome - number of teenagers in customer’s household\n",
    "- Income - customer’s yearly household income\n",
    "- MntFishProducts - amount spent on fish products in the last 2 years\n",
    "- MntMeatProducts - amount spent on meat products in the last 2 years\n",
    "- MntFruits - amount spent on fruits products in the last 2 years\n",
    "- MntSweetProducts - amount spent on sweet products in the last 2 years\n",
    "- MntWines - amount spent on wine products in the last 2 years\n",
    "- MntGoldProds - amount spent on gold products in the last 2 years\n",
    "- NumDealsPurchases - number of purchases made with discount\n",
    "- NumCatalogPurchases - number of purchases made using catalogue\n",
    "- NumStorePurchases - number of purchases made directly in stores\n",
    "- NumWebPurchases - number of purchases made through company’s web site\n",
    "- NumWebVisitsMonth - number of visits to company’s web site in the last month\n",
    "- Recency - number of days since the last purchase"
   ]
  },
  {
   "cell_type": "markdown",
   "metadata": {},
   "source": [
    "#### 1. Import Libraries, Load Dataset, Exploring Data\n",
    "- Import Libraries\n",
    "- Load Dataset\n",
    "- The First Look\n",
    "\n",
    "#### 2. Exploratory Data Analysis (EDA)\n",
    "\n",
    "\n",
    "#### 3. Cluster Analysis\n",
    "\n",
    "- Clustering with numeric features\n",
    "\n",
    "    * Create a new dataset with numeric features\n",
    "    \n",
    "    * Determine optimal number of clusters*\n",
    "    \n",
    "    * Apply K Means*\n",
    "    \n",
    "    * Visualizing and Labeling All the Clusters*\n",
    "    \n",
    "    \n",
    "- Clustering based on selected features\n",
    "\n",
    "    * Create a new dataset with variables of your choice*\n",
    "    \n",
    "    * Determine optimal number of clusters*\n",
    "    \n",
    "    * Apply K Means*\n",
    "    \n",
    "    * Visualizing and Labeling All the Clusters*\n",
    "    \n",
    "    \n",
    "- Hierarchical Clustering with selected features\n",
    "\n",
    "    * Determine optimal number of clusters using Dendogram*\n",
    "\n",
    "    * Apply Agglomerative Clustering*\n",
    "\n",
    "    * Visualizing and Labeling All the Clusters*\n",
    "\n",
    "- Conclusion"
   ]
  },
  {
   "cell_type": "markdown",
   "metadata": {},
   "source": [
    "---\n",
    "---"
   ]
  },
  {
   "cell_type": "markdown",
   "metadata": {},
   "source": [
    "## 1. Import Libraries, Load Dataset, Exploring Data"
   ]
  },
  {
   "cell_type": "markdown",
   "metadata": {},
   "source": [
    "### Import Libraries"
   ]
  },
  {
   "cell_type": "code",
   "execution_count": 1,
   "metadata": {},
   "outputs": [],
   "source": [
    "import numpy as np\n",
    "import pandas as pd\n",
    "\n",
    "import matplotlib.pyplot as plt\n",
    "import seaborn as sns\n",
    "import plotly.express as px\n",
    "\n",
    "sns.set_style(\"whitegrid\")\n",
    "\n",
    "from sklearn.cluster import KMeans\n",
    "from sklearn.cluster import AgglomerativeClustering\n",
    "\n",
    "from sklearn.decomposition import PCA\n",
    "from sklearn.preprocessing import StandardScaler, RobustScaler, MinMaxScaler\n",
    "\n",
    "from sklearn.metrics import silhouette_score\n",
    "\n",
    "from ipywidgets import interact\n",
    "import warnings\n",
    "\n",
    "warnings.filterwarnings(\"ignore\")\n",
    "\n",
    "pd.options.display.float_format = (\n",
    "    lambda x: \"{:.0f}\".format(x) if int(x) == x else \"{:,.2f}\".format(x)\n",
    ")"
   ]
  },
  {
   "cell_type": "markdown",
   "metadata": {},
   "source": [
    "### Load Dataset"
   ]
  },
  {
   "cell_type": "code",
   "execution_count": null,
   "metadata": {},
   "outputs": [],
   "source": []
  },
  {
   "cell_type": "markdown",
   "metadata": {},
   "source": [
    "### The First Look\n",
    "- Since we will do clustering analysis, we will remove Response variable from dataset.\n",
    "- You can rename columns to more usable, if you need."
   ]
  },
  {
   "cell_type": "code",
   "execution_count": null,
   "metadata": {},
   "outputs": [],
   "source": []
  },
  {
   "cell_type": "markdown",
   "metadata": {},
   "source": [
    "## 2. Exploratory Data Analysis (EDA)\n",
    "\n",
    "After performing Cluster Analysis, you need to know the data well in order to label the observations correctly. Analyze frequency distributions of features, relationships and correlations between the independent variables and the dependent variable. It is recommended to apply data visualization techniques. Observing breakpoints helps you to internalize the data."
   ]
  },
  {
   "cell_type": "code",
   "execution_count": null,
   "metadata": {},
   "outputs": [],
   "source": []
  },
  {
   "cell_type": "markdown",
   "metadata": {},
   "source": [
    "### PCA\n",
    "- We have too many features for bivariate analysis and pairplot. So we will create 3 components to have insight how our data distrubuted. "
   ]
  },
  {
   "cell_type": "code",
   "execution_count": null,
   "metadata": {},
   "outputs": [],
   "source": []
  },
  {
   "cell_type": "markdown",
   "metadata": {},
   "source": [
    "# 3. Cluster Analysis\n",
    "\n",
    "The purpose of the project is to perform cluster analysis using [K-Means](https://towardsdatascience.com/understanding-k-means-clustering-in-machine-learning-6a6e67336aa1) and [Hierarchical Clustering](https://medium.com/analytics-vidhya/hierarchical-clustering-d2d92835280c) algorithms.\n",
    "\n",
    "The K-Means algorithm requires determining the number of clusters using the [Elbow Method](https://en.wikipedia.org/wiki/Elbow_method_(clustering), while Hierarchical Clustering builds a dendrogram without defining the number of clusters beforehand. Different labeling should be done based on the information obtained from each analysis.\n",
    "Labeling example:\n",
    "\n",
    "- **Normal Customers**  -- An Average consumer in terms of purchases and Income\n",
    "- **Spender Customers** --  Income is less but purcheses high, so can also be treated as potential target customer."
   ]
  },
  {
   "cell_type": "markdown",
   "metadata": {},
   "source": [
    "## K-means Clsutering"
   ]
  },
  {
   "cell_type": "markdown",
   "metadata": {},
   "source": [
    "### Create a new dataset with numeric features"
   ]
  },
  {
   "cell_type": "code",
   "execution_count": null,
   "metadata": {},
   "outputs": [],
   "source": []
  },
  {
   "cell_type": "markdown",
   "metadata": {},
   "source": [
    "#### Determine optimal number of clusters"
   ]
  },
  {
   "cell_type": "markdown",
   "metadata": {},
   "source": [
    "### inertia"
   ]
  },
  {
   "cell_type": "code",
   "execution_count": 39,
   "metadata": {},
   "outputs": [],
   "source": [
    "def elbow_vis(X, k_range=range(2, 11), inertia=True):\n",
    "    \"\"\"\n",
    "    This is a function that visualizes the elbow method for determining the optimal number of clusters in a dataset.\n",
    "\n",
    "    Args:\n",
    "        X (pd.Dataframe): Input data\n",
    "        k_range (range, optional): generator for k values. Defaults to range(2, 11).\n",
    "        inertia (bool, optional): to select either inertia or distorion. Defaults to True.\n",
    "    Returns:\n",
    "        None.\n",
    "    \"\"\"\n",
    "    if inertia:\n",
    "        inertias = []\n",
    "        for k in k_range:\n",
    "            kmeanModel = KMeans(n_clusters=k, random_state=42).fit(X)\n",
    "            inertias.append(kmeanModel.inertia_)\n",
    "        plt.figure(figsize=(10, 6))\n",
    "        plt.plot(k_range, inertias, \"bo--\")\n",
    "        plt.xlabel(\"k\")\n",
    "        plt.ylabel(\"Inertia\")\n",
    "        plt.title(\"The Elbow Method showing the optimal k\")\n",
    "        plt.show()\n",
    "    else:\n",
    "        distortion = []\n",
    "        for k in k_range:\n",
    "            kmeanModel = KMeans(n_clusters=k, random_state=42)\n",
    "            kmeanModel.fit(X)\n",
    "            distances = kmeanModel.transform(\n",
    "                X\n",
    "            )  # distances from each observation to each cluster centroid\n",
    "            labels = kmeanModel.labels_\n",
    "            result = []\n",
    "            for i in range(k):\n",
    "                cluster_distances = distances[\n",
    "                    labels == i, i\n",
    "                ]  # distances from observations in each cluster to their own centroid\n",
    "                result.append(\n",
    "                    np.mean(cluster_distances**2)\n",
    "                )  # calculate the mean of squared distances from observations in each cluster to their own centroid and add it to the result list\n",
    "            distortion.append(\n",
    "                sum(result)\n",
    "            )  # sum the means of all clusters and add it to the distortion list\n",
    "\n",
    "        plt.figure(figsize=(10, 6))\n",
    "        plt.plot(k_range, distortion, \"r*--\", markersize=14.0)\n",
    "        plt.xlabel(\"Different k values\")\n",
    "        plt.ylabel(\"Distortion\")\n",
    "        plt.title(\"elbow method\")"
   ]
  },
  {
   "cell_type": "code",
   "execution_count": null,
   "metadata": {},
   "outputs": [],
   "source": []
  },
  {
   "cell_type": "markdown",
   "metadata": {},
   "source": [
    "### distortion"
   ]
  },
  {
   "cell_type": "code",
   "execution_count": null,
   "metadata": {},
   "outputs": [],
   "source": []
  },
  {
   "cell_type": "markdown",
   "metadata": {},
   "source": [
    "### silhoutte score"
   ]
  },
  {
   "cell_type": "code",
   "execution_count": null,
   "metadata": {},
   "outputs": [],
   "source": []
  },
  {
   "cell_type": "markdown",
   "metadata": {},
   "source": [
    "#### Apply K Means"
   ]
  },
  {
   "cell_type": "code",
   "execution_count": null,
   "metadata": {},
   "outputs": [],
   "source": []
  },
  {
   "cell_type": "markdown",
   "metadata": {},
   "source": [
    "#### Visualizing and Labeling All the Clusters"
   ]
  },
  {
   "cell_type": "code",
   "execution_count": null,
   "metadata": {},
   "outputs": [],
   "source": []
  },
  {
   "cell_type": "markdown",
   "metadata": {},
   "source": [
    "### Clustering based on selected features"
   ]
  },
  {
   "cell_type": "markdown",
   "metadata": {},
   "source": [
    "#### Select features from existing data"
   ]
  },
  {
   "cell_type": "code",
   "execution_count": null,
   "metadata": {},
   "outputs": [],
   "source": []
  },
  {
   "cell_type": "markdown",
   "metadata": {},
   "source": [
    "#### Determine optimal number of clusters for selected features"
   ]
  },
  {
   "cell_type": "code",
   "execution_count": null,
   "metadata": {},
   "outputs": [],
   "source": []
  },
  {
   "cell_type": "markdown",
   "metadata": {},
   "source": [
    "#### Building the model based on the optimal number of clusters with selected features"
   ]
  },
  {
   "cell_type": "code",
   "execution_count": null,
   "metadata": {},
   "outputs": [],
   "source": []
  },
  {
   "cell_type": "markdown",
   "metadata": {},
   "source": [
    "#### We have made our inferences on the Kmeans algorithm so far, and we will take and compare the results with another clustering algorithm, Hierarchical Clustering:\n",
    "\n",
    "\n",
    "### The point we need to pay attention to is the number of clusters in kmeans so that we can find the differences."
   ]
  },
  {
   "cell_type": "markdown",
   "metadata": {},
   "source": [
    "## Hierarchical Clustering"
   ]
  },
  {
   "cell_type": "markdown",
   "metadata": {},
   "source": [
    "### Determine optimal number of clusters using Dendogram"
   ]
  },
  {
   "cell_type": "code",
   "execution_count": null,
   "metadata": {},
   "outputs": [],
   "source": []
  },
  {
   "cell_type": "markdown",
   "metadata": {},
   "source": [
    "### silhouette_score"
   ]
  },
  {
   "cell_type": "code",
   "execution_count": null,
   "metadata": {},
   "outputs": [],
   "source": []
  },
  {
   "cell_type": "markdown",
   "metadata": {},
   "source": [
    "### Clustering based on selected features"
   ]
  },
  {
   "cell_type": "code",
   "execution_count": null,
   "metadata": {},
   "outputs": [],
   "source": []
  },
  {
   "cell_type": "markdown",
   "metadata": {},
   "source": [
    "## Conclusion"
   ]
  },
  {
   "cell_type": "code",
   "execution_count": null,
   "metadata": {},
   "outputs": [],
   "source": []
  },
  {
   "cell_type": "markdown",
   "metadata": {},
   "source": [
    "___\n",
    "\n",
    "<p style=\"text-align: center;\"><img src=\"https://docs.google.com/uc?id=1lY0Uj5R04yMY3-ZppPWxqCr5pvBLYPnV\" class=\"img-fluid\" alt=\"CLRSWY\"></p>\n",
    "\n",
    "___"
   ]
  }
 ],
 "metadata": {
  "kernelspec": {
   "display_name": "Python 3 (ipykernel)",
   "language": "python",
   "name": "python3"
  },
  "language_info": {
   "codemirror_mode": {
    "name": "ipython",
    "version": 3
   },
   "file_extension": ".py",
   "mimetype": "text/x-python",
   "name": "python",
   "nbconvert_exporter": "python",
   "pygments_lexer": "ipython3",
   "version": "3.10.13"
  },
  "nbTranslate": {
   "displayLangs": [
    "*"
   ],
   "hotkey": "alt-t",
   "langInMainMenu": true,
   "sourceLang": "en",
   "targetLang": "fr",
   "useGoogleTranslate": true
  },
  "toc": {
   "base_numbering": 1,
   "nav_menu": {},
   "number_sections": true,
   "sideBar": true,
   "skip_h1_title": false,
   "title_cell": "Table of Contents",
   "title_sidebar": "Contents",
   "toc_cell": false,
   "toc_position": {
    "height": "calc(100% - 180px)",
    "left": "10px",
    "top": "150px",
    "width": "340.341px"
   },
   "toc_section_display": true,
   "toc_window_display": true
  },
  "varInspector": {
   "cols": {
    "lenName": 16,
    "lenType": 16,
    "lenVar": 40
   },
   "kernels_config": {
    "python": {
     "delete_cmd_postfix": "",
     "delete_cmd_prefix": "del ",
     "library": "var_list.py",
     "varRefreshCmd": "print(var_dic_list())"
    },
    "r": {
     "delete_cmd_postfix": ") ",
     "delete_cmd_prefix": "rm(",
     "library": "var_list.r",
     "varRefreshCmd": "cat(var_dic_list()) "
    }
   },
   "types_to_exclude": [
    "module",
    "function",
    "builtin_function_or_method",
    "instance",
    "_Feature"
   ],
   "window_display": false
  }
 },
 "nbformat": 4,
 "nbformat_minor": 2
}
